{
 "cells": [
  {
   "cell_type": "markdown",
   "metadata": {},
   "source": [
    "### This notebook contains JS which can only be viewed with nbviewer"
   ]
  },
  {
   "cell_type": "code",
   "execution_count": 1,
   "metadata": {},
   "outputs": [],
   "source": [
    "import numpy as np\n",
    "import pandas as pd\n",
    "import networkx as nx\n",
    "import re\n",
    "import pickle\n",
    "import os\n",
    "from functools import partial\n",
    "import infomap"
   ]
  },
  {
   "cell_type": "markdown",
   "metadata": {},
   "source": [
    "### Json Description:\n",
    "jsonL is a collection of json objects containing metadata\n",
    "about the topics on the forums"
   ]
  },
  {
   "cell_type": "code",
   "execution_count": 2,
   "metadata": {},
   "outputs": [],
   "source": [
    "with open(\"json10k.p\",\"rb\") as f:\n",
    "    jsonL = pickle.load(f)"
   ]
  },
  {
   "cell_type": "markdown",
   "metadata": {},
   "source": [
    "### Graph Description:\n",
    "LikeG is a graph such that:\n",
    "- Nodes represent individual players\n",
    "- There is an edge $u \\rightarrow v$ with weight $w$ if player $u$ has given $w$ total likes to player $v$."
   ]
  },
  {
   "cell_type": "code",
   "execution_count": 3,
   "metadata": {},
   "outputs": [],
   "source": [
    "LikeG = nx.read_graphml('ArenaLikeG.graphml')"
   ]
  },
  {
   "cell_type": "code",
   "execution_count": 4,
   "metadata": {},
   "outputs": [
    {
     "name": "stdout",
     "output_type": "stream",
     "text": [
      "Num nodes: 15163\n",
      "Num edges: 156852\n"
     ]
    }
   ],
   "source": [
    "print(\"Num nodes: \" + str(len(LikeG.nodes)))\n",
    "print(\"Num edges: \"+ str(len(LikeG.edges)))"
   ]
  },
  {
   "cell_type": "code",
   "execution_count": 5,
   "metadata": {},
   "outputs": [
    {
     "name": "stdout",
     "output_type": "stream",
     "text": [
      "Num posts scraped: 284275\n"
     ]
    }
   ],
   "source": [
    "num_posts_scraped = sum([sum([topic['posts_count'] for topic in json['topic_list']['topics']]) for json in jsonL])\n",
    "print(\"Num posts scraped: \" + str(num_posts_scraped))"
   ]
  },
  {
   "cell_type": "markdown",
   "metadata": {},
   "source": [
    "### Estimate size of data accessed by selenium\n",
    " - Chrome -> dev console -> Network -> Reload topic with only one post, read off X/Y resources loaded by page, report X*num_posts."
   ]
  },
  {
   "cell_type": "code",
   "execution_count": 6,
   "metadata": {},
   "outputs": [
    {
     "name": "stdout",
     "output_type": "stream",
     "text": [
      "Estimate on size of data accessed: 284275 MB\n"
     ]
    }
   ],
   "source": [
    "size_of_post_in_MB = 1\n",
    "size_scraped = size_of_post_in_MB * num_posts_scraped\n",
    "print(\"Estimate on size of data accessed: \" + str(size_scraped) + \" MB\")"
   ]
  },
  {
   "cell_type": "markdown",
   "metadata": {},
   "source": [
    "### Here we'll compute some node characteristics of LikeG\n",
    "- Closeness centrality\n",
    "- Betweenness centrality\n",
    "- Indegree\n",
    "- Outdegree\n",
    "- Indegree/Outdegree\n",
    "- Clustering Coefficient"
   ]
  },
  {
   "cell_type": "code",
   "execution_count": 7,
   "metadata": {},
   "outputs": [],
   "source": [
    "try:\n",
    "    node_data = pd.read_csv('node_data.csv')\n",
    "except OSError:\n",
    "    print(\"Couldn't read file.\")\n",
    "    node_data = pd.DataFrame(index=LikeG.nodes)\n",
    "    cluster_coeffs = nx.clustering(LikeG,weight='weight')\n",
    "    node_data.loc[:,'ClusterCoefficient'] = cluster_coeffs.values()\n",
    "    node_data.loc[:,'Indegree'] = np.array([int(x[1]) for x in LikeG.in_degree(weight='weight')])\n",
    "    node_data.loc[:,'Outdegree'] = np.array([int(x[1]) for x in LikeG.out_degree(weight='weight')])\n",
    "    node_data.loc[:,'ClosenessCentrality'] = nx.closeness_centrality(LikeG,distance='weight').values()\n",
    "    node_data.loc[:,'BetweennessCentrality'] = nx.betweenness_centrality(LikeG,weight='weight').values()\n",
    "    node_data[\"InOverOut\"] = node_data[\"Indegree\"]/node_data[\"Outdegree\"]\n",
    "    node_data['Activity'] = node_data['Indegree'] + node_data['Outdegree']\n",
    "    node_data.to_csv('node_data.csv')"
   ]
  },
  {
   "cell_type": "markdown",
   "metadata": {},
   "source": [
    "### Let's see the most central users"
   ]
  },
  {
   "cell_type": "code",
   "execution_count": 8,
   "metadata": {},
   "outputs": [],
   "source": [
    "node_data = node_data.rename({'Unnamed: 0':'name'},axis=1)"
   ]
  },
  {
   "cell_type": "code",
   "execution_count": 9,
   "metadata": {},
   "outputs": [
    {
     "data": {
      "text/html": [
       "<div>\n",
       "<style scoped>\n",
       "    .dataframe tbody tr th:only-of-type {\n",
       "        vertical-align: middle;\n",
       "    }\n",
       "\n",
       "    .dataframe tbody tr th {\n",
       "        vertical-align: top;\n",
       "    }\n",
       "\n",
       "    .dataframe thead th {\n",
       "        text-align: right;\n",
       "    }\n",
       "</style>\n",
       "<table border=\"1\" class=\"dataframe\">\n",
       "  <thead>\n",
       "    <tr style=\"text-align: right;\">\n",
       "      <th></th>\n",
       "      <th>name</th>\n",
       "      <th>ClusterCoefficient</th>\n",
       "      <th>Indegree</th>\n",
       "      <th>Outdegree</th>\n",
       "      <th>ClosenessCentrality</th>\n",
       "      <th>BetweennessCentrality</th>\n",
       "      <th>InOverOut</th>\n",
       "      <th>Activity</th>\n",
       "    </tr>\n",
       "  </thead>\n",
       "  <tbody>\n",
       "    <tr>\n",
       "      <th>113</th>\n",
       "      <td>Efx-moknathal</td>\n",
       "      <td>0.000180</td>\n",
       "      <td>9972</td>\n",
       "      <td>3749</td>\n",
       "      <td>0.308478</td>\n",
       "      <td>0.022111</td>\n",
       "      <td>2.659909</td>\n",
       "      <td>13721</td>\n",
       "    </tr>\n",
       "    <tr>\n",
       "      <th>8</th>\n",
       "      <td>Survïvalïst-bleeding-hollow</td>\n",
       "      <td>0.000215</td>\n",
       "      <td>2108</td>\n",
       "      <td>8833</td>\n",
       "      <td>0.295629</td>\n",
       "      <td>0.019726</td>\n",
       "      <td>0.238651</td>\n",
       "      <td>10941</td>\n",
       "    </tr>\n",
       "    <tr>\n",
       "      <th>5</th>\n",
       "      <td>Exalter-malganis</td>\n",
       "      <td>0.000232</td>\n",
       "      <td>5146</td>\n",
       "      <td>3200</td>\n",
       "      <td>0.297711</td>\n",
       "      <td>0.013667</td>\n",
       "      <td>1.608125</td>\n",
       "      <td>8346</td>\n",
       "    </tr>\n",
       "    <tr>\n",
       "      <th>84</th>\n",
       "      <td>Rethumtv-tichondrius</td>\n",
       "      <td>0.000232</td>\n",
       "      <td>4273</td>\n",
       "      <td>1487</td>\n",
       "      <td>0.300508</td>\n",
       "      <td>0.012255</td>\n",
       "      <td>2.873571</td>\n",
       "      <td>5760</td>\n",
       "    </tr>\n",
       "    <tr>\n",
       "      <th>25</th>\n",
       "      <td>Dillon-sargeras</td>\n",
       "      <td>0.000147</td>\n",
       "      <td>10224</td>\n",
       "      <td>279</td>\n",
       "      <td>0.309096</td>\n",
       "      <td>0.012079</td>\n",
       "      <td>36.645161</td>\n",
       "      <td>10503</td>\n",
       "    </tr>\n",
       "    <tr>\n",
       "      <th>206</th>\n",
       "      <td>Kydrav-bleeding-hollow</td>\n",
       "      <td>0.000291</td>\n",
       "      <td>2771</td>\n",
       "      <td>2489</td>\n",
       "      <td>0.300759</td>\n",
       "      <td>0.010596</td>\n",
       "      <td>1.113299</td>\n",
       "      <td>5260</td>\n",
       "    </tr>\n",
       "    <tr>\n",
       "      <th>64</th>\n",
       "      <td>Thellendir-sargeras</td>\n",
       "      <td>0.000289</td>\n",
       "      <td>3824</td>\n",
       "      <td>3101</td>\n",
       "      <td>0.297128</td>\n",
       "      <td>0.010227</td>\n",
       "      <td>1.233151</td>\n",
       "      <td>6925</td>\n",
       "    </tr>\n",
       "    <tr>\n",
       "      <th>1471</th>\n",
       "      <td>Hexxes-malganis</td>\n",
       "      <td>0.000235</td>\n",
       "      <td>1829</td>\n",
       "      <td>1213</td>\n",
       "      <td>0.304584</td>\n",
       "      <td>0.009876</td>\n",
       "      <td>1.507832</td>\n",
       "      <td>3042</td>\n",
       "    </tr>\n",
       "    <tr>\n",
       "      <th>2372</th>\n",
       "      <td>Remixxed-malganis</td>\n",
       "      <td>0.000234</td>\n",
       "      <td>3571</td>\n",
       "      <td>1198</td>\n",
       "      <td>0.301430</td>\n",
       "      <td>0.009725</td>\n",
       "      <td>2.980801</td>\n",
       "      <td>4769</td>\n",
       "    </tr>\n",
       "    <tr>\n",
       "      <th>239</th>\n",
       "      <td>Nawat-emerald-dream</td>\n",
       "      <td>0.000272</td>\n",
       "      <td>871</td>\n",
       "      <td>2207</td>\n",
       "      <td>0.291473</td>\n",
       "      <td>0.008528</td>\n",
       "      <td>0.394653</td>\n",
       "      <td>3078</td>\n",
       "    </tr>\n",
       "  </tbody>\n",
       "</table>\n",
       "</div>"
      ],
      "text/plain": [
       "                             name  ClusterCoefficient  Indegree  Outdegree  \\\n",
       "113                 Efx-moknathal            0.000180      9972       3749   \n",
       "8     Survïvalïst-bleeding-hollow            0.000215      2108       8833   \n",
       "5                Exalter-malganis            0.000232      5146       3200   \n",
       "84           Rethumtv-tichondrius            0.000232      4273       1487   \n",
       "25                Dillon-sargeras            0.000147     10224        279   \n",
       "206        Kydrav-bleeding-hollow            0.000291      2771       2489   \n",
       "64            Thellendir-sargeras            0.000289      3824       3101   \n",
       "1471              Hexxes-malganis            0.000235      1829       1213   \n",
       "2372            Remixxed-malganis            0.000234      3571       1198   \n",
       "239           Nawat-emerald-dream            0.000272       871       2207   \n",
       "\n",
       "      ClosenessCentrality  BetweennessCentrality  InOverOut  Activity  \n",
       "113              0.308478               0.022111   2.659909     13721  \n",
       "8                0.295629               0.019726   0.238651     10941  \n",
       "5                0.297711               0.013667   1.608125      8346  \n",
       "84               0.300508               0.012255   2.873571      5760  \n",
       "25               0.309096               0.012079  36.645161     10503  \n",
       "206              0.300759               0.010596   1.113299      5260  \n",
       "64               0.297128               0.010227   1.233151      6925  \n",
       "1471             0.304584               0.009876   1.507832      3042  \n",
       "2372             0.301430               0.009725   2.980801      4769  \n",
       "239              0.291473               0.008528   0.394653      3078  "
      ]
     },
     "execution_count": 9,
     "metadata": {},
     "output_type": "execute_result"
    }
   ],
   "source": [
    "node_data.sort_values(by='BetweennessCentrality',ascending=False).head(10)"
   ]
  },
  {
   "cell_type": "markdown",
   "metadata": {},
   "source": [
    "### The most liked users"
   ]
  },
  {
   "cell_type": "code",
   "execution_count": 10,
   "metadata": {},
   "outputs": [
    {
     "data": {
      "text/html": [
       "<div>\n",
       "<style scoped>\n",
       "    .dataframe tbody tr th:only-of-type {\n",
       "        vertical-align: middle;\n",
       "    }\n",
       "\n",
       "    .dataframe tbody tr th {\n",
       "        vertical-align: top;\n",
       "    }\n",
       "\n",
       "    .dataframe thead th {\n",
       "        text-align: right;\n",
       "    }\n",
       "</style>\n",
       "<table border=\"1\" class=\"dataframe\">\n",
       "  <thead>\n",
       "    <tr style=\"text-align: right;\">\n",
       "      <th></th>\n",
       "      <th>name</th>\n",
       "      <th>ClusterCoefficient</th>\n",
       "      <th>Indegree</th>\n",
       "      <th>Outdegree</th>\n",
       "      <th>ClosenessCentrality</th>\n",
       "      <th>BetweennessCentrality</th>\n",
       "      <th>InOverOut</th>\n",
       "      <th>Activity</th>\n",
       "    </tr>\n",
       "  </thead>\n",
       "  <tbody>\n",
       "    <tr>\n",
       "      <th>25</th>\n",
       "      <td>Dillon-sargeras</td>\n",
       "      <td>0.000147</td>\n",
       "      <td>10224</td>\n",
       "      <td>279</td>\n",
       "      <td>0.309096</td>\n",
       "      <td>0.012079</td>\n",
       "      <td>36.645161</td>\n",
       "      <td>10503</td>\n",
       "    </tr>\n",
       "    <tr>\n",
       "      <th>113</th>\n",
       "      <td>Efx-moknathal</td>\n",
       "      <td>0.000180</td>\n",
       "      <td>9972</td>\n",
       "      <td>3749</td>\n",
       "      <td>0.308478</td>\n",
       "      <td>0.022111</td>\n",
       "      <td>2.659909</td>\n",
       "      <td>13721</td>\n",
       "    </tr>\n",
       "    <tr>\n",
       "      <th>5</th>\n",
       "      <td>Exalter-malganis</td>\n",
       "      <td>0.000232</td>\n",
       "      <td>5146</td>\n",
       "      <td>3200</td>\n",
       "      <td>0.297711</td>\n",
       "      <td>0.013667</td>\n",
       "      <td>1.608125</td>\n",
       "      <td>8346</td>\n",
       "    </tr>\n",
       "    <tr>\n",
       "      <th>111</th>\n",
       "      <td>Husbandied-barthilas</td>\n",
       "      <td>0.000386</td>\n",
       "      <td>4504</td>\n",
       "      <td>2228</td>\n",
       "      <td>0.297738</td>\n",
       "      <td>0.006313</td>\n",
       "      <td>2.021544</td>\n",
       "      <td>6732</td>\n",
       "    </tr>\n",
       "    <tr>\n",
       "      <th>84</th>\n",
       "      <td>Rethumtv-tichondrius</td>\n",
       "      <td>0.000232</td>\n",
       "      <td>4273</td>\n",
       "      <td>1487</td>\n",
       "      <td>0.300508</td>\n",
       "      <td>0.012255</td>\n",
       "      <td>2.873571</td>\n",
       "      <td>5760</td>\n",
       "    </tr>\n",
       "    <tr>\n",
       "      <th>64</th>\n",
       "      <td>Thellendir-sargeras</td>\n",
       "      <td>0.000289</td>\n",
       "      <td>3824</td>\n",
       "      <td>3101</td>\n",
       "      <td>0.297128</td>\n",
       "      <td>0.010227</td>\n",
       "      <td>1.233151</td>\n",
       "      <td>6925</td>\n",
       "    </tr>\n",
       "    <tr>\n",
       "      <th>2372</th>\n",
       "      <td>Remixxed-malganis</td>\n",
       "      <td>0.000234</td>\n",
       "      <td>3571</td>\n",
       "      <td>1198</td>\n",
       "      <td>0.301430</td>\n",
       "      <td>0.009725</td>\n",
       "      <td>2.980801</td>\n",
       "      <td>4769</td>\n",
       "    </tr>\n",
       "    <tr>\n",
       "      <th>87</th>\n",
       "      <td>Laoghaire-emerald-dream</td>\n",
       "      <td>0.000309</td>\n",
       "      <td>3439</td>\n",
       "      <td>2290</td>\n",
       "      <td>0.301150</td>\n",
       "      <td>0.008203</td>\n",
       "      <td>1.501747</td>\n",
       "      <td>5729</td>\n",
       "    </tr>\n",
       "    <tr>\n",
       "      <th>206</th>\n",
       "      <td>Kydrav-bleeding-hollow</td>\n",
       "      <td>0.000291</td>\n",
       "      <td>2771</td>\n",
       "      <td>2489</td>\n",
       "      <td>0.300759</td>\n",
       "      <td>0.010596</td>\n",
       "      <td>1.113299</td>\n",
       "      <td>5260</td>\n",
       "    </tr>\n",
       "    <tr>\n",
       "      <th>1291</th>\n",
       "      <td>Orphanchild-scilla</td>\n",
       "      <td>0.000299</td>\n",
       "      <td>2754</td>\n",
       "      <td>355</td>\n",
       "      <td>0.291481</td>\n",
       "      <td>0.003976</td>\n",
       "      <td>7.757746</td>\n",
       "      <td>3109</td>\n",
       "    </tr>\n",
       "  </tbody>\n",
       "</table>\n",
       "</div>"
      ],
      "text/plain": [
       "                         name  ClusterCoefficient  Indegree  Outdegree  \\\n",
       "25            Dillon-sargeras            0.000147     10224        279   \n",
       "113             Efx-moknathal            0.000180      9972       3749   \n",
       "5            Exalter-malganis            0.000232      5146       3200   \n",
       "111      Husbandied-barthilas            0.000386      4504       2228   \n",
       "84       Rethumtv-tichondrius            0.000232      4273       1487   \n",
       "64        Thellendir-sargeras            0.000289      3824       3101   \n",
       "2372        Remixxed-malganis            0.000234      3571       1198   \n",
       "87    Laoghaire-emerald-dream            0.000309      3439       2290   \n",
       "206    Kydrav-bleeding-hollow            0.000291      2771       2489   \n",
       "1291       Orphanchild-scilla            0.000299      2754        355   \n",
       "\n",
       "      ClosenessCentrality  BetweennessCentrality  InOverOut  Activity  \n",
       "25               0.309096               0.012079  36.645161     10503  \n",
       "113              0.308478               0.022111   2.659909     13721  \n",
       "5                0.297711               0.013667   1.608125      8346  \n",
       "111              0.297738               0.006313   2.021544      6732  \n",
       "84               0.300508               0.012255   2.873571      5760  \n",
       "64               0.297128               0.010227   1.233151      6925  \n",
       "2372             0.301430               0.009725   2.980801      4769  \n",
       "87               0.301150               0.008203   1.501747      5729  \n",
       "206              0.300759               0.010596   1.113299      5260  \n",
       "1291             0.291481               0.003976   7.757746      3109  "
      ]
     },
     "execution_count": 10,
     "metadata": {},
     "output_type": "execute_result"
    }
   ],
   "source": [
    "node_data.sort_values(by='Indegree',ascending=False).head(10)"
   ]
  },
  {
   "cell_type": "markdown",
   "metadata": {},
   "source": [
    "### Dillon-sargeras is currently the only active community moderator"
   ]
  },
  {
   "cell_type": "markdown",
   "metadata": {},
   "source": [
    "### Restrict to only the most active users when searching for community moderators"
   ]
  },
  {
   "cell_type": "code",
   "execution_count": 11,
   "metadata": {},
   "outputs": [],
   "source": [
    "active_users = node_data[node_data['Activity']>node_data['Activity'].quantile(.95)]"
   ]
  },
  {
   "cell_type": "code",
   "execution_count": 12,
   "metadata": {},
   "outputs": [
    {
     "data": {
      "text/plain": [
       "757"
      ]
     },
     "execution_count": 12,
     "metadata": {},
     "output_type": "execute_result"
    }
   ],
   "source": [
    "len(active_users)"
   ]
  },
  {
   "cell_type": "code",
   "execution_count": 13,
   "metadata": {
    "scrolled": true
   },
   "outputs": [],
   "source": [
    "active_user_graph = LikeG.subgraph(active_users['name'])"
   ]
  },
  {
   "cell_type": "code",
   "execution_count": 14,
   "metadata": {},
   "outputs": [
    {
     "data": {
      "text/plain": [
       "9.0"
      ]
     },
     "execution_count": 14,
     "metadata": {},
     "output_type": "execute_result"
    }
   ],
   "source": [
    "np.percentile([active_user_graph.edges[edge]['weight'] for edge in active_user_graph.edges],95)"
   ]
  },
  {
   "cell_type": "code",
   "execution_count": 15,
   "metadata": {},
   "outputs": [],
   "source": [
    "weighty_edges = [edge for edge in active_user_graph.edges if active_user_graph.edges[edge]['weight'] >= 10]"
   ]
  },
  {
   "cell_type": "code",
   "execution_count": 16,
   "metadata": {},
   "outputs": [],
   "source": [
    "to_plot = active_user_graph.edge_subgraph(weighty_edges)"
   ]
  },
  {
   "cell_type": "markdown",
   "metadata": {},
   "source": [
    "### Setup for community detection: requires a binary detection file"
   ]
  },
  {
   "cell_type": "code",
   "execution_count": 17,
   "metadata": {},
   "outputs": [],
   "source": [
    "nx.readwrite.pajek.write_pajek(to_plot,'to_plot.paj')"
   ]
  },
  {
   "cell_type": "markdown",
   "metadata": {},
   "source": [
    "### The --weight-threshold option vastly limits the number of edges. Otherwise Infomap produces one large community. TODO: Try directed louvain"
   ]
  },
  {
   "cell_type": "code",
   "execution_count": 18,
   "metadata": {},
   "outputs": [
    {
     "name": "stdout",
     "output_type": "stream",
     "text": [
      "=======================================================\n",
      "  Infomap v1.1.4 starts at 2020-10-12 16:13:28\n",
      "  -> Input network: to_plot.paj\n",
      "  -> Output path:   InfoClusters/\n",
      "  -> Configuration: input-format = pajek\n",
      "                    ftree\n",
      "                    clu\n",
      "                    clu-level = -1\n",
      "                    directed\n",
      "                    preferred-number-of-modules = 20\n",
      "=======================================================\n",
      "Parsing directed pajek network from file 'to_plot.paj'... \n",
      "  Parsing vertices...\n",
      "  -> 478 physical nodes added\n",
      "  Parsing links...\n",
      "  -> 2758 links\n",
      "Done!\n",
      "-------------------------------------\n",
      "  -> 478 nodes\n",
      "  -> 2758 links with total weight 64224\n",
      "  -> Ordinary network input, using the Map Equation for first order network flows\n",
      "Calculating global network flow using flow model 'directed'... \n",
      "  -> Using unrecorded teleportation to links. \n",
      "  -> PageRank calculation done in 50 iterations.\n",
      "\n",
      "  => Sum node flow: 1, sum link flow: 1\n",
      "Build internal network with 478 nodes and 2758 links...\n",
      "Calculating one-level codelength... done!\n",
      " -> One-level codelength: 6.00132098\n",
      "Calculating entropy rate... done!\n",
      "  -> Entropy rate: 3.354640842\n",
      "\n",
      "================================================\n",
      "Trial 1/1 starting at 2020-10-12 16:13:28\n",
      "================================================\n",
      "Two-level compression: -2.2% 0.68% \n",
      "Partitioned to codelength 1.10476789 + 4.98624205 + 0 = 6.091009943 in 20 (18 non-trivial) modules.\n",
      "\n",
      "Recursive sub-structure compression: 0.0320181544% 0.00158778713% 0% . Found 4 levels with codelength 6.088963033\n",
      "\n",
      "=> Trial 1/1 finished in 0.009s with codelength 6.08896303\n",
      "Write flow tree to InfoClusters/to_plot.ftree... done!\n",
      "Write node modules to InfoClusters/to_plot.clu... done!\n",
      "\n",
      "\n",
      "================================================\n",
      "Summary after 1 trial\n",
      "================================================\n",
      "Best end modular solution in 4 levels (warning: worse than one-level solution):\n",
      "Per level number of modules:         [         20,          12,           2,           0] (sum: 34)\n",
      "Per level number of leaf nodes:      [          0,         412,          63,           3] (sum: 478)\n",
      "Per level average child degree:      [         20,        21.2,     5.41667,         1.5] (average: 19.034)\n",
      "Per level codelength for modules:    [1.104767894, 0.007779149, 0.000000000, 0.000000000] (sum: 1.112547043)\n",
      "Per level codelength for leaf nodes: [0.000000000, 4.903764371, 0.072539851, 0.000111769] (sum: 4.976415990)\n",
      "Per level codelength total:          [1.104767894, 4.911543519, 0.072539851, 0.000111769] (sum: 6.088963033)\n",
      "\n",
      "===================================================\n",
      "  Infomap ends at 2020-10-12 16:13:28\n",
      "  (Elapsed time: 0.03s)\n",
      "===================================================\n"
     ]
    }
   ],
   "source": [
    "!infomap -i pajek --directed --preferred-number-of-modules 20   --ftree --clu --clu-level -1 to_plot.paj InfoClusters"
   ]
  },
  {
   "cell_type": "code",
   "execution_count": 19,
   "metadata": {},
   "outputs": [],
   "source": [
    "with open('InfoClusters/to_plot.clu','r') as f:\n",
    "    clus_data = [line.strip().split(' ')\n",
    "                 for line in f.readlines() if not line.startswith('#')]"
   ]
  },
  {
   "cell_type": "code",
   "execution_count": 20,
   "metadata": {},
   "outputs": [],
   "source": [
    "cluster_df = pd.DataFrame(clus_data,columns=['node_id','module','flow'])"
   ]
  },
  {
   "cell_type": "code",
   "execution_count": 21,
   "metadata": {},
   "outputs": [],
   "source": [
    "cluster_df['node_id'] = cluster_df['node_id'].astype('int')-1\n",
    "cluster_df['module'] = cluster_df['module'].astype('int')\n",
    "cluster_df['flow'] = cluster_df['flow'].astype('float')"
   ]
  },
  {
   "cell_type": "code",
   "execution_count": 22,
   "metadata": {},
   "outputs": [
    {
     "data": {
      "text/plain": [
       "node_id      int32\n",
       "module       int32\n",
       "flow       float64\n",
       "dtype: object"
      ]
     },
     "execution_count": 22,
     "metadata": {},
     "output_type": "execute_result"
    }
   ],
   "source": [
    "cluster_df.dtypes"
   ]
  },
  {
   "cell_type": "code",
   "execution_count": 23,
   "metadata": {},
   "outputs": [],
   "source": [
    "nodeL = list(to_plot.nodes)"
   ]
  },
  {
   "cell_type": "code",
   "execution_count": 24,
   "metadata": {},
   "outputs": [],
   "source": [
    "cluster_df['name'] = cluster_df['node_id'].map(lambda x: nodeL[x])"
   ]
  },
  {
   "cell_type": "code",
   "execution_count": 25,
   "metadata": {
    "scrolled": true
   },
   "outputs": [],
   "source": [
    "cluster_df = cluster_df.set_index('name')"
   ]
  },
  {
   "cell_type": "code",
   "execution_count": 28,
   "metadata": {},
   "outputs": [
    {
     "data": {
      "text/html": [
       "<div>\n",
       "<style scoped>\n",
       "    .dataframe tbody tr th:only-of-type {\n",
       "        vertical-align: middle;\n",
       "    }\n",
       "\n",
       "    .dataframe tbody tr th {\n",
       "        vertical-align: top;\n",
       "    }\n",
       "\n",
       "    .dataframe thead th {\n",
       "        text-align: right;\n",
       "    }\n",
       "</style>\n",
       "<table border=\"1\" class=\"dataframe\">\n",
       "  <thead>\n",
       "    <tr style=\"text-align: right;\">\n",
       "      <th></th>\n",
       "      <th>node_id</th>\n",
       "      <th>module</th>\n",
       "      <th>flow</th>\n",
       "    </tr>\n",
       "    <tr>\n",
       "      <th>name</th>\n",
       "      <th></th>\n",
       "      <th></th>\n",
       "      <th></th>\n",
       "    </tr>\n",
       "  </thead>\n",
       "  <tbody>\n",
       "    <tr>\n",
       "      <th>Efx-moknathal</th>\n",
       "      <td>205</td>\n",
       "      <td>1</td>\n",
       "      <td>0.088246</td>\n",
       "    </tr>\n",
       "    <tr>\n",
       "      <th>Exalter-malganis</th>\n",
       "      <td>39</td>\n",
       "      <td>1</td>\n",
       "      <td>0.038550</td>\n",
       "    </tr>\n",
       "    <tr>\n",
       "      <th>Laoghaire-emerald-dream</th>\n",
       "      <td>65</td>\n",
       "      <td>1</td>\n",
       "      <td>0.028283</td>\n",
       "    </tr>\n",
       "    <tr>\n",
       "      <th>Rethumtv-tichondrius</th>\n",
       "      <td>233</td>\n",
       "      <td>1</td>\n",
       "      <td>0.028279</td>\n",
       "    </tr>\n",
       "    <tr>\n",
       "      <th>Thellendir-sargeras</th>\n",
       "      <td>259</td>\n",
       "      <td>1</td>\n",
       "      <td>0.026420</td>\n",
       "    </tr>\n",
       "  </tbody>\n",
       "</table>\n",
       "</div>"
      ],
      "text/plain": [
       "                         node_id  module      flow\n",
       "name                                              \n",
       "Efx-moknathal                205       1  0.088246\n",
       "Exalter-malganis              39       1  0.038550\n",
       "Laoghaire-emerald-dream       65       1  0.028283\n",
       "Rethumtv-tichondrius         233       1  0.028279\n",
       "Thellendir-sargeras          259       1  0.026420"
      ]
     },
     "execution_count": 28,
     "metadata": {},
     "output_type": "execute_result"
    }
   ],
   "source": [
    "cluster_df.head()"
   ]
  },
  {
   "cell_type": "code",
   "execution_count": 29,
   "metadata": {},
   "outputs": [],
   "source": [
    "cluster_data = cluster_df.merge(node_data,left_index=True,right_on='name',how='inner')"
   ]
  },
  {
   "cell_type": "markdown",
   "metadata": {},
   "source": [
    "### Report the most central figure in each community along with the GLOBAL centrality (in graph with all players)\n",
    "- These will represent a diverse set of choices for community moderators"
   ]
  },
  {
   "cell_type": "code",
   "execution_count": 30,
   "metadata": {},
   "outputs": [
    {
     "data": {
      "text/html": [
       "<div>\n",
       "<style scoped>\n",
       "    .dataframe tbody tr th:only-of-type {\n",
       "        vertical-align: middle;\n",
       "    }\n",
       "\n",
       "    .dataframe tbody tr th {\n",
       "        vertical-align: top;\n",
       "    }\n",
       "\n",
       "    .dataframe thead th {\n",
       "        text-align: right;\n",
       "    }\n",
       "</style>\n",
       "<table border=\"1\" class=\"dataframe\">\n",
       "  <thead>\n",
       "    <tr style=\"text-align: right;\">\n",
       "      <th></th>\n",
       "      <th>name</th>\n",
       "      <th>module</th>\n",
       "      <th>BetweennessCentrality</th>\n",
       "    </tr>\n",
       "  </thead>\n",
       "  <tbody>\n",
       "    <tr>\n",
       "      <th>113</th>\n",
       "      <td>Efx-moknathal</td>\n",
       "      <td>1</td>\n",
       "      <td>0.022111</td>\n",
       "    </tr>\n",
       "    <tr>\n",
       "      <th>2372</th>\n",
       "      <td>Remixxed-malganis</td>\n",
       "      <td>2</td>\n",
       "      <td>0.009725</td>\n",
       "    </tr>\n",
       "    <tr>\n",
       "      <th>12</th>\n",
       "      <td>Covlol-illidan</td>\n",
       "      <td>3</td>\n",
       "      <td>0.003722</td>\n",
       "    </tr>\n",
       "    <tr>\n",
       "      <th>25</th>\n",
       "      <td>Dillon-sargeras</td>\n",
       "      <td>4</td>\n",
       "      <td>0.012079</td>\n",
       "    </tr>\n",
       "    <tr>\n",
       "      <th>394</th>\n",
       "      <td>Boltqt-malygos</td>\n",
       "      <td>5</td>\n",
       "      <td>0.002073</td>\n",
       "    </tr>\n",
       "    <tr>\n",
       "      <th>158</th>\n",
       "      <td>Dozêr-sargeras</td>\n",
       "      <td>6</td>\n",
       "      <td>0.004401</td>\n",
       "    </tr>\n",
       "    <tr>\n",
       "      <th>4438</th>\n",
       "      <td>Stumblin-emerald-dream</td>\n",
       "      <td>7</td>\n",
       "      <td>0.005834</td>\n",
       "    </tr>\n",
       "    <tr>\n",
       "      <th>379</th>\n",
       "      <td>Abombanation-darkspear</td>\n",
       "      <td>8</td>\n",
       "      <td>0.007935</td>\n",
       "    </tr>\n",
       "    <tr>\n",
       "      <th>1151</th>\n",
       "      <td>Fox-azshara</td>\n",
       "      <td>9</td>\n",
       "      <td>0.002945</td>\n",
       "    </tr>\n",
       "    <tr>\n",
       "      <th>55</th>\n",
       "      <td>Haugs-sargeras</td>\n",
       "      <td>10</td>\n",
       "      <td>0.002671</td>\n",
       "    </tr>\n",
       "    <tr>\n",
       "      <th>4718</th>\n",
       "      <td>Healsx-nemesis</td>\n",
       "      <td>11</td>\n",
       "      <td>0.001110</td>\n",
       "    </tr>\n",
       "    <tr>\n",
       "      <th>1734</th>\n",
       "      <td>Battlezone-moon-guard</td>\n",
       "      <td>12</td>\n",
       "      <td>0.000974</td>\n",
       "    </tr>\n",
       "    <tr>\n",
       "      <th>1864</th>\n",
       "      <td>Bombadilo-gorefiend</td>\n",
       "      <td>13</td>\n",
       "      <td>0.001199</td>\n",
       "    </tr>\n",
       "    <tr>\n",
       "      <th>1072</th>\n",
       "      <td>Relleth-moon-guard</td>\n",
       "      <td>14</td>\n",
       "      <td>0.002510</td>\n",
       "    </tr>\n",
       "    <tr>\n",
       "      <th>234</th>\n",
       "      <td>Chaaka-stormscale</td>\n",
       "      <td>15</td>\n",
       "      <td>0.000559</td>\n",
       "    </tr>\n",
       "    <tr>\n",
       "      <th>9436</th>\n",
       "      <td>Xozi-tichondrius</td>\n",
       "      <td>16</td>\n",
       "      <td>0.001449</td>\n",
       "    </tr>\n",
       "    <tr>\n",
       "      <th>3146</th>\n",
       "      <td>Kyi-wyrmrest-accord</td>\n",
       "      <td>17</td>\n",
       "      <td>0.001479</td>\n",
       "    </tr>\n",
       "    <tr>\n",
       "      <th>3672</th>\n",
       "      <td>Torswan-sargeras-954690</td>\n",
       "      <td>18</td>\n",
       "      <td>0.000344</td>\n",
       "    </tr>\n",
       "    <tr>\n",
       "      <th>241</th>\n",
       "      <td>Jugaa-arthas</td>\n",
       "      <td>19</td>\n",
       "      <td>0.000389</td>\n",
       "    </tr>\n",
       "    <tr>\n",
       "      <th>721</th>\n",
       "      <td>Daark-cenarius</td>\n",
       "      <td>20</td>\n",
       "      <td>0.000469</td>\n",
       "    </tr>\n",
       "  </tbody>\n",
       "</table>\n",
       "</div>"
      ],
      "text/plain": [
       "                         name  module  BetweennessCentrality\n",
       "113             Efx-moknathal       1               0.022111\n",
       "2372        Remixxed-malganis       2               0.009725\n",
       "12             Covlol-illidan       3               0.003722\n",
       "25            Dillon-sargeras       4               0.012079\n",
       "394            Boltqt-malygos       5               0.002073\n",
       "158            Dozêr-sargeras       6               0.004401\n",
       "4438   Stumblin-emerald-dream       7               0.005834\n",
       "379    Abombanation-darkspear       8               0.007935\n",
       "1151              Fox-azshara       9               0.002945\n",
       "55             Haugs-sargeras      10               0.002671\n",
       "4718           Healsx-nemesis      11               0.001110\n",
       "1734    Battlezone-moon-guard      12               0.000974\n",
       "1864      Bombadilo-gorefiend      13               0.001199\n",
       "1072       Relleth-moon-guard      14               0.002510\n",
       "234         Chaaka-stormscale      15               0.000559\n",
       "9436         Xozi-tichondrius      16               0.001449\n",
       "3146      Kyi-wyrmrest-accord      17               0.001479\n",
       "3672  Torswan-sargeras-954690      18               0.000344\n",
       "241              Jugaa-arthas      19               0.000389\n",
       "721            Daark-cenarius      20               0.000469"
      ]
     },
     "execution_count": 30,
     "metadata": {},
     "output_type": "execute_result"
    }
   ],
   "source": [
    "cluster_data.loc[cluster_data.groupby(by=\"module\")['BetweennessCentrality'].idxmax(),['name','module','BetweennessCentrality']]"
   ]
  },
  {
   "cell_type": "code",
   "execution_count": 31,
   "metadata": {},
   "outputs": [],
   "source": [
    "for node in to_plot.nodes:\n",
    "    to_plot.nodes[node]['community'] = int(cluster_df.loc[node,'module'])\n",
    "    to_plot.nodes[node]['name'] = node"
   ]
  },
  {
   "cell_type": "code",
   "execution_count": 32,
   "metadata": {},
   "outputs": [],
   "source": [
    "to_plot = nx.convert_node_labels_to_integers(to_plot)"
   ]
  },
  {
   "cell_type": "code",
   "execution_count": 33,
   "metadata": {},
   "outputs": [],
   "source": [
    "from networkx.readwrite import json_graph\n",
    "import json"
   ]
  },
  {
   "cell_type": "code",
   "execution_count": 34,
   "metadata": {},
   "outputs": [],
   "source": [
    "json_data = json_graph.node_link_data(to_plot)"
   ]
  },
  {
   "cell_type": "code",
   "execution_count": 35,
   "metadata": {},
   "outputs": [],
   "source": [
    "with open('to_plot.json','w+',encoding='utf8') as f:\n",
    "    json.dump(json_data,f,indent=4,ensure_ascii=False)"
   ]
  },
  {
   "cell_type": "code",
   "execution_count": 36,
   "metadata": {},
   "outputs": [
    {
     "data": {
      "text/html": [
       "<div id=\"d3-example\"></div>\n",
       "<style>\n",
       ".node {stroke: #fff; stroke-width: 1.5px;}\n",
       ".link {stroke: #999; stroke-opacity: .6;}\n",
       "</style>\n"
      ],
      "text/plain": [
       "<IPython.core.display.HTML object>"
      ]
     },
     "metadata": {},
     "output_type": "display_data"
    }
   ],
   "source": [
    "%%html\n",
    "<div id=\"d3-example\"></div>\n",
    "<style>\n",
    ".node {stroke: #fff; stroke-width: 1.5px;}\n",
    ".link {stroke: #999; stroke-opacity: .6;}\n",
    "</style>"
   ]
  },
  {
   "cell_type": "code",
   "execution_count": 37,
   "metadata": {},
   "outputs": [
    {
     "data": {
      "application/javascript": [
       "// Note: v4->v5 breaks this code\n",
       "// In v5 promises are used to load\n",
       "// json, so I'd have to add a .then...\n",
       "// Color arrays with 20 colors\n",
       "// have also been changed from v4 to v5\n",
       "\n",
       "// We load the d3.js library from the Web.\n",
       "require.config({paths:\n",
       "    {d3: \"https://d3js.org/d3.v4.min\"}});\n",
       "require([\"d3\"], function(d3) {\n",
       "  // The code in this block is executed when the\n",
       "  // d3.js library has been loaded.\n",
       "  const drag = simulation => {\n",
       "\n",
       "        function dragstarted(d) {\n",
       "        if (!d3.event.active) simulation.alphaTarget(0.3).restart();\n",
       "            d.fx = d.x;\n",
       "            d.fy = d.y;\n",
       "        }\n",
       "\n",
       "        function dragged(d) {\n",
       "            d.fx = d3.event.x;\n",
       "            d.fy = d3.event.y;\n",
       "        }\n",
       "\n",
       "        function dragended(d) {\n",
       "        if (!d3.event.active) simulation.alphaTarget(0);\n",
       "            d.fx = null;\n",
       "            d.fy = null;\n",
       "        }\n",
       "\n",
       "        return d3.drag()\n",
       "          .on(\"start\", dragstarted)\n",
       "          .on(\"drag\", dragged)\n",
       "          .on(\"end\", dragended);\n",
       "    }\n",
       "  // First, we specify the size of the canvas\n",
       "  // containing the visualization (size of the\n",
       "  // <div> element).\n",
       "  var width = 1200, height = 1200;\n",
       "\n",
       "  // We create a color scale.\n",
       "  var color = d3.scaleOrdinal(d3.schemeCategory20);\n",
       "\n",
       "  // We create a force-directed dynamic graph layout.\n",
       "  var sim = d3.forceSimulation()\n",
       "    .force(\"charge\", d3.forceManyBody())\n",
       "    .force(\"center\", d3.forceCenter(width / 2, height / 2));\n",
       "    //.size([width, height]);\n",
       "\n",
       "  // In the <div> element, we create a <svg> graphic\n",
       "  // that will contain our interactive visualization.\n",
       "  var svg = d3.select(\"#d3-example\").select(\"svg\")\n",
       "  if (svg.empty()) {\n",
       "    svg = d3.select(\"#d3-example\").append(\"svg\")\n",
       "          .attr(\"width\", width)\n",
       "          .attr(\"height\", height);\n",
       "  }\n",
       "\n",
       "  // We load the JSON file.\n",
       "  d3.json(\"to_plot.json\", function(error, graph) {\n",
       "    // In this block, the file has been loaded\n",
       "    // and the 'graph' object contains our graph.\n",
       "\n",
       "    // We load the nodes and links in the\n",
       "    // force-directed graph.\n",
       "    sim.nodes(graph.nodes);\n",
       "\n",
       "    // We create a <line> SVG element for each link\n",
       "    // in the graph.\n",
       "    var link = svg.selectAll(\".link\")\n",
       "      .data(graph.links)\n",
       "      .enter().append(\"line\")\n",
       "      .attr(\"class\", \"link\");\n",
       "\n",
       "    // We create a <circle> SVG element for each node\n",
       "    // in the graph, and we specify a few attributes.\n",
       "    var node = svg.selectAll(\".node\")\n",
       "      .data(graph.nodes)\n",
       "      .enter().append(\"circle\")\n",
       "      .attr(\"class\", \"node\")\n",
       "      .attr(\"r\", 5)  // radius\n",
       "      .style(\"fill\", function(d) {\n",
       "         // The node color depends on the indegree.\n",
       "         return color(d.community);\n",
       "      })\n",
       "      .call(drag(sim));\n",
       "    \n",
       "    sim.force(\"link\", d3.forceLink(graph.links));\n",
       "\n",
       "    // The name of each node is the player name.\n",
       "    node.append(\"title\")\n",
       "        .text(function(d) { return d.name; });\n",
       "\n",
       "    // We bind the positions of the SVG elements\n",
       "    // to the positions of the dynamic force-directed\n",
       "    // graph, at each time step.\n",
       "    sim.on(\"tick\", function() {\n",
       "      link.attr(\"x1\", function(d){return d.source.x})\n",
       "          .attr(\"y1\", function(d){return d.source.y})\n",
       "          .attr(\"x2\", function(d){return d.target.x})\n",
       "          .attr(\"y2\", function(d){return d.target.y});\n",
       "\n",
       "      node.attr(\"cx\", function(d){return d.x})\n",
       "          .attr(\"cy\", function(d){return d.y});\n",
       "    });\n",
       "  });\n",
       "});\n"
      ],
      "text/plain": [
       "<IPython.core.display.Javascript object>"
      ]
     },
     "metadata": {},
     "output_type": "display_data"
    }
   ],
   "source": [
    "%%javascript\n",
    "// Note: v4->v5 breaks this code\n",
    "// In v5 promises are used to load\n",
    "// json, so I'd have to add a .then...\n",
    "// Color arrays with 20 colors\n",
    "// have also been changed from v4 to v5\n",
    "\n",
    "// We load the d3.js library from the Web.\n",
    "require.config({paths:\n",
    "    {d3: \"https://d3js.org/d3.v4.min\"}});\n",
    "require([\"d3\"], function(d3) {\n",
    "  // The code in this block is executed when the\n",
    "  // d3.js library has been loaded.\n",
    "  const drag = simulation => {\n",
    "\n",
    "        function dragstarted(d) {\n",
    "        if (!d3.event.active) simulation.alphaTarget(0.3).restart();\n",
    "            d.fx = d.x;\n",
    "            d.fy = d.y;\n",
    "        }\n",
    "\n",
    "        function dragged(d) {\n",
    "            d.fx = d3.event.x;\n",
    "            d.fy = d3.event.y;\n",
    "        }\n",
    "\n",
    "        function dragended(d) {\n",
    "        if (!d3.event.active) simulation.alphaTarget(0);\n",
    "            d.fx = null;\n",
    "            d.fy = null;\n",
    "        }\n",
    "\n",
    "        return d3.drag()\n",
    "          .on(\"start\", dragstarted)\n",
    "          .on(\"drag\", dragged)\n",
    "          .on(\"end\", dragended);\n",
    "    }\n",
    "  // First, we specify the size of the canvas\n",
    "  // containing the visualization (size of the\n",
    "  // <div> element).\n",
    "  var width = 1200, height = 1200;\n",
    "\n",
    "  // We create a color scale.\n",
    "  var color = d3.scaleOrdinal(d3.schemeCategory20);\n",
    "\n",
    "  // We create a force-directed dynamic graph layout.\n",
    "  var sim = d3.forceSimulation()\n",
    "    .force(\"charge\", d3.forceManyBody())\n",
    "    .force(\"center\", d3.forceCenter(width / 2, height / 2));\n",
    "    //.size([width, height]);\n",
    "\n",
    "  // In the <div> element, we create a <svg> graphic\n",
    "  // that will contain our interactive visualization.\n",
    "  var svg = d3.select(\"#d3-example\").select(\"svg\")\n",
    "  if (svg.empty()) {\n",
    "    svg = d3.select(\"#d3-example\").append(\"svg\")\n",
    "          .attr(\"width\", width)\n",
    "          .attr(\"height\", height);\n",
    "  }\n",
    "\n",
    "  // We load the JSON file.\n",
    "  d3.json(\"to_plot.json\", function(error, graph) {\n",
    "    // In this block, the file has been loaded\n",
    "    // and the 'graph' object contains our graph.\n",
    "\n",
    "    // We load the nodes and links in the\n",
    "    // force-directed graph.\n",
    "    sim.nodes(graph.nodes);\n",
    "\n",
    "    // We create a <line> SVG element for each link\n",
    "    // in the graph.\n",
    "    var link = svg.selectAll(\".link\")\n",
    "      .data(graph.links)\n",
    "      .enter().append(\"line\")\n",
    "      .attr(\"class\", \"link\");\n",
    "\n",
    "    // We create a <circle> SVG element for each node\n",
    "    // in the graph, and we specify a few attributes.\n",
    "    var node = svg.selectAll(\".node\")\n",
    "      .data(graph.nodes)\n",
    "      .enter().append(\"circle\")\n",
    "      .attr(\"class\", \"node\")\n",
    "      .attr(\"r\", 5)  // radius\n",
    "      .style(\"fill\", function(d) {\n",
    "         // The node color depends on the indegree.\n",
    "         return color(d.community);\n",
    "      })\n",
    "      .call(drag(sim));\n",
    "    \n",
    "    sim.force(\"link\", d3.forceLink(graph.links));\n",
    "\n",
    "    // The name of each node is the player name.\n",
    "    node.append(\"title\")\n",
    "        .text(function(d) { return d.name; });\n",
    "\n",
    "    // We bind the positions of the SVG elements\n",
    "    // to the positions of the dynamic force-directed\n",
    "    // graph, at each time step.\n",
    "    sim.on(\"tick\", function() {\n",
    "      link.attr(\"x1\", function(d){return d.source.x})\n",
    "          .attr(\"y1\", function(d){return d.source.y})\n",
    "          .attr(\"x2\", function(d){return d.target.x})\n",
    "          .attr(\"y2\", function(d){return d.target.y});\n",
    "\n",
    "      node.attr(\"cx\", function(d){return d.x})\n",
    "          .attr(\"cy\", function(d){return d.y});\n",
    "    });\n",
    "  });\n",
    "});"
   ]
  },
  {
   "cell_type": "code",
   "execution_count": 33,
   "metadata": {},
   "outputs": [
    {
     "data": {
      "text/plain": [
       "113"
      ]
     },
     "execution_count": 33,
     "metadata": {},
     "output_type": "execute_result"
    }
   ],
   "source": [
    "import gc\n",
    "gc.collect()"
   ]
  }
 ],
 "metadata": {
  "kernelspec": {
   "display_name": "Python 3",
   "language": "python",
   "name": "python3"
  },
  "language_info": {
   "codemirror_mode": {
    "name": "ipython",
    "version": 3
   },
   "file_extension": ".py",
   "mimetype": "text/x-python",
   "name": "python",
   "nbconvert_exporter": "python",
   "pygments_lexer": "ipython3",
   "version": "3.7.6"
  }
 },
 "nbformat": 4,
 "nbformat_minor": 4
}
